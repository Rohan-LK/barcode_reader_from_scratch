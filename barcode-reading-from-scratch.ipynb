{
 "cells": [
  {
   "cell_type": "code",
   "execution_count": 1,
   "id": "633adfd4",
   "metadata": {
    "_cell_guid": "b1076dfc-b9ad-4769-8c92-a6c4dae69d19",
    "_uuid": "8f2839f25d086af736a60e9eeb907d3b93b6e0e5",
    "execution": {
     "iopub.execute_input": "2021-09-09T13:51:08.916082Z",
     "iopub.status.busy": "2021-09-09T13:51:08.915367Z",
     "iopub.status.idle": "2021-09-09T13:51:09.178104Z",
     "shell.execute_reply": "2021-09-09T13:51:09.177338Z",
     "shell.execute_reply.started": "2021-09-09T13:45:39.854969Z"
    },
    "papermill": {
     "duration": 0.297866,
     "end_time": "2021-09-09T13:51:09.178288",
     "exception": false,
     "start_time": "2021-09-09T13:51:08.880422",
     "status": "completed"
    },
    "tags": []
   },
   "outputs": [
    {
     "name": "stdout",
     "output_type": "stream",
     "text": [
      "CPU times: user 102 ms, sys: 16.7 ms, total: 119 ms\n",
      "Wall time: 258 ms\n"
     ]
    }
   ],
   "source": [
    "%%time\n",
    "import cv2\n",
    "from PIL import Image\n",
    "import numpy as np\n",
    "import pandas as pd\n",
    "import matplotlib.pyplot as plt"
   ]
  },
  {
   "cell_type": "code",
   "execution_count": 2,
   "id": "766d2b87",
   "metadata": {
    "execution": {
     "iopub.execute_input": "2021-09-09T13:51:09.227373Z",
     "iopub.status.busy": "2021-09-09T13:51:09.226689Z",
     "iopub.status.idle": "2021-09-09T13:51:09.295479Z",
     "shell.execute_reply": "2021-09-09T13:51:09.296096Z",
     "shell.execute_reply.started": "2021-09-09T13:45:39.979917Z"
    },
    "papermill": {
     "duration": 0.095684,
     "end_time": "2021-09-09T13:51:09.296285",
     "exception": false,
     "start_time": "2021-09-09T13:51:09.200601",
     "status": "completed"
    },
    "tags": []
   },
   "outputs": [],
   "source": [
    "img = cv2.imread('data/2upc.jpg')"
   ]
  },
  {
   "cell_type": "code",
   "execution_count": 3,
   "id": "bc4b1dfb",
   "metadata": {
    "execution": {
     "iopub.execute_input": "2021-09-09T13:51:09.342721Z",
     "iopub.status.busy": "2021-09-09T13:51:09.341672Z",
     "iopub.status.idle": "2021-09-09T13:51:09.350262Z",
     "shell.execute_reply": "2021-09-09T13:51:09.349652Z",
     "shell.execute_reply.started": "2021-09-09T13:45:40.002255Z"
    },
    "papermill": {
     "duration": 0.032777,
     "end_time": "2021-09-09T13:51:09.350412",
     "exception": false,
     "start_time": "2021-09-09T13:51:09.317635",
     "status": "completed"
    },
    "tags": []
   },
   "outputs": [],
   "source": [
    "def cont_hi(num_img):\n",
    "        #num_img = asarray(img)\n",
    "        #num_img.setflags(write=1)\n",
    "        for i in range(0 , len(num_img)):\n",
    "            for j in range(0, len(num_img[i]) ):\n",
    "                #if num_img[i][j][0] <= 200  and num_img[i][j][1] <= 200 and num_img[i][j][2] <= 200:\n",
    "                mean1 = np.mean(num_img[i][j])\n",
    "                #mean1_lst.append(mean1)\n",
    "                if mean1 < 180: #180:\n",
    "                    num_img[i][j][0] = mean1\n",
    "                    num_img[i][j][1] = mean1\n",
    "                    num_img[i][j][2] = mean1\n",
    "                else:\n",
    "                    num_img[i][j][0] = 255\n",
    "                    num_img[i][j][1] = 255\n",
    "                    num_img[i][j][2] = 255\n",
    "        #img = Image.fromarray(num_img)\n",
    "        return num_img"
   ]
  },
  {
   "cell_type": "code",
   "execution_count": 4,
   "id": "59c81dfc",
   "metadata": {
    "execution": {
     "iopub.execute_input": "2021-09-09T13:51:09.396551Z",
     "iopub.status.busy": "2021-09-09T13:51:09.395854Z",
     "iopub.status.idle": "2021-09-09T13:51:19.378161Z",
     "shell.execute_reply": "2021-09-09T13:51:19.377459Z",
     "shell.execute_reply.started": "2021-09-09T13:45:40.013887Z"
    },
    "papermill": {
     "duration": 10.006326,
     "end_time": "2021-09-09T13:51:19.378319",
     "exception": false,
     "start_time": "2021-09-09T13:51:09.371993",
     "status": "completed"
    },
    "tags": []
   },
   "outputs": [
    {
     "name": "stdout",
     "output_type": "stream",
     "text": [
      "CPU times: user 9.93 s, sys: 4.18 ms, total: 9.93 s\n",
      "Wall time: 9.94 s\n"
     ]
    },
    {
     "data": {
      "image/png": "[encoded data removed]",
      "text/plain": [
       "<PIL.Image.Image image mode=RGB size=905x591 at 0x7F2767C28910>"
      ]
     },
     "execution_count": 4,
     "metadata": {},
     "output_type": "execute_result"
    }
   ],
   "source": [
    "%%time\n",
    "img = cont_hi(img)\n",
    "#img = defs.img2txt.thresholding(img)\n",
    "cv2.imwrite('bar1.jpg',img)\n",
    "Image.fromarray(img)"
   ]
  },
  {
   "cell_type": "code",
   "execution_count": 5,
   "id": "228198b3",
   "metadata": {
    "execution": {
     "iopub.execute_input": "2021-09-09T13:51:19.429296Z",
     "iopub.status.busy": "2021-09-09T13:51:19.428602Z",
     "iopub.status.idle": "2021-09-09T13:51:19.440946Z",
     "shell.execute_reply": "2021-09-09T13:51:19.440235Z",
     "shell.execute_reply.started": "2021-09-09T13:45:48.882892Z"
    },
    "papermill": {
     "duration": 0.039447,
     "end_time": "2021-09-09T13:51:19.441097",
     "exception": false,
     "start_time": "2021-09-09T13:51:19.401650",
     "status": "completed"
    },
    "tags": []
   },
   "outputs": [
    {
     "data": {
      "text/plain": [
       "(591, 905, 3)"
      ]
     },
     "execution_count": 5,
     "metadata": {},
     "output_type": "execute_result"
    }
   ],
   "source": [
    "img = cv2.imread('bar1.jpg')\n",
    "h,l,m = np.shape(img)\n",
    "h,l,m"
   ]
  },
  {
   "cell_type": "code",
   "execution_count": 6,
   "id": "bed2df5e",
   "metadata": {
    "execution": {
     "iopub.execute_input": "2021-09-09T13:51:19.508514Z",
     "iopub.status.busy": "2021-09-09T13:51:19.507793Z",
     "iopub.status.idle": "2021-09-09T13:51:19.512567Z",
     "shell.execute_reply": "2021-09-09T13:51:19.511565Z",
     "shell.execute_reply.started": "2021-09-09T13:45:48.902822Z"
    },
    "papermill": {
     "duration": 0.048556,
     "end_time": "2021-09-09T13:51:19.512779",
     "exception": false,
     "start_time": "2021-09-09T13:51:19.464223",
     "status": "completed"
    },
    "tags": []
   },
   "outputs": [
    {
     "name": "stdout",
     "output_type": "stream",
     "text": [
      "905\n",
      "[1, 1, 1, 1, 1, 1, 1, 1, 1, 1, 1, 1, 1, 1, 1, 1, 1, 1, 1, 1, 1, 1, 1, 1, 1, 1, 1, 1, 1, 1, 1, 1, 1, 1, 1, 1, 1, 1, 1, 1, 1, 1, 1, 1, 1, 1, 1, 1, 1, 1, 1, 1, 1, 1, 1, 1, 1, 1, 1, 1, 1, 1, 1, 1, 1, 1, 1, 1, 1, 1, 1, 1, 0, 0, 0, 0, 0, 0, 0, 0, 1, 1, 1, 1, 1, 1, 1, 1, 0, 0, 0, 0, 0, 0, 0, 0, 1, 1, 1, 1, 1, 1, 1, 0, 0, 0, 0, 0, 0, 0, 0, 0, 0, 0, 0, 0, 0, 0, 0, 0, 0, 0, 0, 0, 0, 0, 0, 0, 1, 1, 1, 1, 1, 1, 1, 0, 0, 0, 0, 0, 0, 0, 0, 0, 0, 0, 0, 0, 0, 0, 0, 0, 1, 1, 1, 1, 1, 1, 1, 1, 1, 1, 1, 1, 1, 1, 1, 1, 1, 1, 1, 1, 1, 1, 1, 1, 0, 0, 0, 0, 0, 0, 0, 0, 0, 0, 0, 0, 0, 0, 0, 0, 1, 1, 1, 1, 1, 1, 1, 1, 0, 0, 0, 0, 0, 0, 0, 0, 1, 1, 1, 1, 1, 1, 1, 1, 0, 0, 0, 0, 0, 0, 0, 0, 0, 0, 0, 0, 0, 0, 0, 0, 1, 1, 1, 1, 1, 1, 1, 1, 1, 1, 1, 1, 1, 1, 1, 1, 1, 1, 1, 1, 1, 1, 1, 1, 0, 0, 0, 0, 0, 0, 0, 0, 1, 1, 1, 1, 1, 1, 1, 1, 0, 0, 0, 0, 0, 0, 0, 0, 1, 1, 1, 1, 1, 1, 1, 1, 0, 0, 0, 0, 0, 0, 0, 0, 0, 0, 0, 0, 0, 0, 0, 0, 0, 0, 0, 0, 0, 0, 0, 0, 0, 0, 0, 0, 0, 0, 0, 0, 1, 1, 1, 1, 1, 1, 1, 1, 0, 0, 0, 0, 0, 0, 0, 0, 0, 0, 0, 0, 0, 0, 0, 0, 0, 0, 0, 0, 0, 0, 0, 0, 0, 0, 0, 0, 0, 0, 0, 0, 1, 1, 1, 1, 1, 1, 1, 1, 0, 0, 0, 0, 0, 0, 0, 0, 1, 1, 1, 1, 1, 1, 1, 1, 1, 1, 1, 1, 1, 1, 1, 1, 1, 0, 0, 0, 0, 0, 0, 0, 1, 1, 1, 1, 1, 1, 1, 1, 1, 1, 1, 1, 1, 1, 1, 1, 1, 0, 0, 0, 0, 0, 0, 0, 0, 0, 0, 0, 0, 0, 0, 0, 1, 1, 1, 1, 1, 1, 1, 1, 0, 0, 0, 0, 0, 0, 0, 0, 1, 1, 1, 1, 1, 1, 1, 1, 0, 0, 0, 0, 0, 0, 0, 0, 1, 1, 1, 1, 1, 1, 1, 1, 0, 0, 0, 0, 0, 0, 0, 0, 0, 0, 0, 0, 0, 0, 0, 0, 0, 0, 0, 0, 0, 0, 0, 0, 1, 1, 1, 1, 1, 1, 1, 1, 1, 1, 1, 1, 1, 1, 1, 1, 0, 0, 0, 0, 0, 0, 0, 0, 1, 1, 1, 1, 1, 1, 1, 1, 0, 0, 0, 0, 0, 0, 0, 1, 1, 1, 1, 1, 1, 1, 1, 1, 1, 1, 1, 1, 1, 1, 1, 1, 0, 0, 0, 0, 0, 0, 0, 1, 1, 1, 1, 1, 1, 1, 1, 1, 1, 1, 1, 1, 1, 1, 1, 1, 1, 1, 1, 1, 1, 1, 1, 1, 0, 0, 0, 0, 0, 0, 0, 0, 1, 1, 1, 1, 1, 1, 1, 1, 1, 1, 1, 1, 1, 1, 1, 1, 0, 0, 0, 0, 0, 0, 0, 0, 0, 0, 0, 0, 0, 0, 0, 0, 0, 0, 0, 0, 0, 0, 0, 0, 1, 1, 1, 1, 1, 1, 1, 1, 0, 0, 0, 0, 0, 0, 0, 0, 0, 0, 0, 0, 0, 0, 0, 0, 0, 0, 0, 0, 0, 0, 0, 0, 1, 1, 1, 1, 1, 1, 1, 1, 0, 0, 0, 0, 0, 0, 0, 0, 1, 1, 1, 1, 1, 1, 1, 1, 1, 1, 1, 1, 1, 1, 1, 1, 0, 0, 0, 0, 0, 0, 0, 0, 1, 1, 1, 1, 1, 1, 1, 1, 0, 0, 0, 0, 0, 0, 0, 0, 0, 0, 0, 0, 0, 0, 0, 0, 0, 0, 0, 0, 0, 0, 0, 0, 1, 1, 1, 1, 1, 1, 1, 1, 1, 1, 1, 1, 1, 1, 1, 1, 0, 0, 0, 0, 0, 0, 0, 0, 1, 1, 1, 1, 1, 1, 1, 1, 1, 1, 1, 1, 1, 1, 1, 1, 1, 1, 1, 1, 1, 1, 1, 1, 1, 1, 1, 1, 1, 1, 1, 1, 0, 0, 0, 0, 0, 0, 0, 0, 1, 1, 1, 1, 1, 1, 1, 1, 0, 0, 0, 0, 0, 0, 0, 0, 1, 1, 1, 1, 1, 1, 1, 1, 0, 0, 0, 0, 0, 0, 0, 0, 1, 1, 1, 1, 1, 1, 1, 1, 1, 1, 1, 1, 1, 1, 1, 1, 1, 1, 1, 1, 1, 1, 1, 1, 1, 1, 1, 1, 1, 1, 1, 1, 1, 1, 1, 1, 1, 1, 1, 1, 1, 1, 1, 1, 1, 1, 1, 1, 1, 1, 1, 1, 1, 1, 1, 1, 1, 1, 1, 1, 1, 1, 1, 1, 1, 1, 1, 1, 1, 1, 1, 1, 1]\n",
      "CPU times: user 15 ms, sys: 0 ns, total: 15 ms\n",
      "Wall time: 14.8 ms\n"
     ]
    }
   ],
   "source": [
    "%%time\n",
    "arr = []\n",
    "#for i in range(0, len(img)):\n",
    "#for i in range(round(h/2), round(h/2)+1):  # 100th row is selected\n",
    "for i in range(80,81):  # 100th row is selected    \n",
    "    for j in range(0, len(img[i])):        # read all columns in 100th row\n",
    "        if np.mean(img[i][j]) >= 100:      #\n",
    "            arr.append(1)                  # white\n",
    "        else:\n",
    "            arr.append(0)                  # black\n",
    "print(len(arr))\n",
    "print(arr)"
   ]
  },
  {
   "cell_type": "code",
   "execution_count": 7,
   "id": "1c29c461",
   "metadata": {
    "execution": {
     "iopub.execute_input": "2021-09-09T13:51:19.585385Z",
     "iopub.status.busy": "2021-09-09T13:51:19.578335Z",
     "iopub.status.idle": "2021-09-09T13:51:19.608262Z",
     "shell.execute_reply": "2021-09-09T13:51:19.607554Z",
     "shell.execute_reply.started": "2021-09-09T13:45:48.925954Z"
    },
    "papermill": {
     "duration": 0.071236,
     "end_time": "2021-09-09T13:51:19.608418",
     "exception": false,
     "start_time": "2021-09-09T13:51:19.537182",
     "status": "completed"
    },
    "tags": []
   },
   "outputs": [
    {
     "name": "stdout",
     "output_type": "stream",
     "text": [
      "CPU times: user 7.82 ms, sys: 4.93 ms, total: 12.7 ms\n",
      "Wall time: 23.4 ms\n"
     ]
    },
    {
     "data": {
      "text/html": [
       "<div>\n",
       "<style scoped>\n",
       "    .dataframe tbody tr th:only-of-type {\n",
       "        vertical-align: middle;\n",
       "    }\n",
       "\n",
       "    .dataframe tbody tr th {\n",
       "        vertical-align: top;\n",
       "    }\n",
       "\n",
       "    .dataframe thead th {\n",
       "        text-align: right;\n",
       "    }\n",
       "</style>\n",
       "<table border=\"1\" class=\"dataframe\">\n",
       "  <thead>\n",
       "    <tr style=\"text-align: right;\">\n",
       "      <th></th>\n",
       "      <th>val</th>\n",
       "      <th>count</th>\n",
       "    </tr>\n",
       "  </thead>\n",
       "  <tbody>\n",
       "    <tr>\n",
       "      <th>0</th>\n",
       "      <td>1</td>\n",
       "      <td>72</td>\n",
       "    </tr>\n",
       "    <tr>\n",
       "      <th>1</th>\n",
       "      <td>0</td>\n",
       "      <td>8</td>\n",
       "    </tr>\n",
       "    <tr>\n",
       "      <th>2</th>\n",
       "      <td>1</td>\n",
       "      <td>8</td>\n",
       "    </tr>\n",
       "    <tr>\n",
       "      <th>3</th>\n",
       "      <td>0</td>\n",
       "      <td>8</td>\n",
       "    </tr>\n",
       "    <tr>\n",
       "      <th>4</th>\n",
       "      <td>1</td>\n",
       "      <td>7</td>\n",
       "    </tr>\n",
       "    <tr>\n",
       "      <th>...</th>\n",
       "      <td>...</td>\n",
       "      <td>...</td>\n",
       "    </tr>\n",
       "    <tr>\n",
       "      <th>56</th>\n",
       "      <td>1</td>\n",
       "      <td>8</td>\n",
       "    </tr>\n",
       "    <tr>\n",
       "      <th>57</th>\n",
       "      <td>0</td>\n",
       "      <td>8</td>\n",
       "    </tr>\n",
       "    <tr>\n",
       "      <th>58</th>\n",
       "      <td>1</td>\n",
       "      <td>8</td>\n",
       "    </tr>\n",
       "    <tr>\n",
       "      <th>59</th>\n",
       "      <td>0</td>\n",
       "      <td>8</td>\n",
       "    </tr>\n",
       "    <tr>\n",
       "      <th>60</th>\n",
       "      <td>1</td>\n",
       "      <td>73</td>\n",
       "    </tr>\n",
       "  </tbody>\n",
       "</table>\n",
       "<p>61 rows × 2 columns</p>\n",
       "</div>"
      ],
      "text/plain": [
       "    val  count\n",
       "0     1     72\n",
       "1     0      8\n",
       "2     1      8\n",
       "3     0      8\n",
       "4     1      7\n",
       "..  ...    ...\n",
       "56    1      8\n",
       "57    0      8\n",
       "58    1      8\n",
       "59    0      8\n",
       "60    1     73\n",
       "\n",
       "[61 rows x 2 columns]"
      ]
     },
     "execution_count": 7,
     "metadata": {},
     "output_type": "execute_result"
    }
   ],
   "source": [
    "%%time\n",
    "df = pd.DataFrame(arr, columns=['val'])\n",
    "df = df.groupby([df['val'].ne(df['val'].shift()).cumsum(), 'val']).size()\n",
    "df = df.reset_index(level=0, drop=True)\n",
    "#print(df)\n",
    "df = pd.DataFrame(df)\n",
    "df = df.reset_index()\n",
    "df.columns = ['val','count']\n",
    "df"
   ]
  },
  {
   "cell_type": "code",
   "execution_count": 8,
   "id": "bbf4b3f8",
   "metadata": {
    "execution": {
     "iopub.execute_input": "2021-09-09T13:51:19.690687Z",
     "iopub.status.busy": "2021-09-09T13:51:19.686281Z",
     "iopub.status.idle": "2021-09-09T13:51:19.710019Z",
     "shell.execute_reply": "2021-09-09T13:51:19.709373Z",
     "shell.execute_reply.started": "2021-09-09T13:45:48.963974Z"
    },
    "papermill": {
     "duration": 0.077537,
     "end_time": "2021-09-09T13:51:19.710169",
     "exception": false,
     "start_time": "2021-09-09T13:51:19.632632",
     "status": "completed"
    },
    "tags": []
   },
   "outputs": [
    {
     "name": "stdout",
     "output_type": "stream",
     "text": [
      "CPU times: user 40.8 ms, sys: 6.21 ms, total: 47 ms\n",
      "Wall time: 41.3 ms\n"
     ]
    }
   ],
   "source": [
    "%%time\n",
    "#REMOVE WHITE==============KEEP BLACK=======\n",
    "df0 = df.copy()\n",
    "for i in range(0, len(df0['val']) ):\n",
    "    if df0['val'][i] == 1:\n",
    "        df0.drop([i], inplace = True)\n",
    "\n",
    "df0 = df0.reset_index(level=0, drop=True)\n",
    "\n",
    "#REMOVE BLACK==============KEEP WHITE========\n",
    "df1 = df.copy()\n",
    "for i in range(0, len(df1['val']) ):\n",
    "    if df1['val'][i] == 0:\n",
    "        df1.drop([i], inplace = True)\n",
    "\n",
    "df1 = df1.reset_index(level=0, drop=True)"
   ]
  },
  {
   "cell_type": "code",
   "execution_count": 9,
   "id": "a7f6f1d9",
   "metadata": {
    "execution": {
     "iopub.execute_input": "2021-09-09T13:51:19.772354Z",
     "iopub.status.busy": "2021-09-09T13:51:19.771280Z",
     "iopub.status.idle": "2021-09-09T13:51:19.776463Z",
     "shell.execute_reply": "2021-09-09T13:51:19.775581Z",
     "shell.execute_reply.started": "2021-09-09T13:45:49.005661Z"
    },
    "papermill": {
     "duration": 0.041998,
     "end_time": "2021-09-09T13:51:19.776630",
     "exception": false,
     "start_time": "2021-09-09T13:51:19.734632",
     "status": "completed"
    },
    "tags": []
   },
   "outputs": [
    {
     "data": {
      "text/html": [
       "<div>\n",
       "<style scoped>\n",
       "    .dataframe tbody tr th:only-of-type {\n",
       "        vertical-align: middle;\n",
       "    }\n",
       "\n",
       "    .dataframe tbody tr th {\n",
       "        vertical-align: top;\n",
       "    }\n",
       "\n",
       "    .dataframe thead th {\n",
       "        text-align: right;\n",
       "    }\n",
       "</style>\n",
       "<table border=\"1\" class=\"dataframe\">\n",
       "  <thead>\n",
       "    <tr style=\"text-align: right;\">\n",
       "      <th></th>\n",
       "      <th>val</th>\n",
       "      <th>count</th>\n",
       "    </tr>\n",
       "  </thead>\n",
       "  <tbody>\n",
       "    <tr>\n",
       "      <th>0</th>\n",
       "      <td>0</td>\n",
       "      <td>8</td>\n",
       "    </tr>\n",
       "    <tr>\n",
       "      <th>1</th>\n",
       "      <td>0</td>\n",
       "      <td>8</td>\n",
       "    </tr>\n",
       "    <tr>\n",
       "      <th>2</th>\n",
       "      <td>0</td>\n",
       "      <td>25</td>\n",
       "    </tr>\n",
       "    <tr>\n",
       "      <th>3</th>\n",
       "      <td>0</td>\n",
       "      <td>17</td>\n",
       "    </tr>\n",
       "    <tr>\n",
       "      <th>4</th>\n",
       "      <td>0</td>\n",
       "      <td>16</td>\n",
       "    </tr>\n",
       "    <tr>\n",
       "      <th>5</th>\n",
       "      <td>0</td>\n",
       "      <td>8</td>\n",
       "    </tr>\n",
       "    <tr>\n",
       "      <th>6</th>\n",
       "      <td>0</td>\n",
       "      <td>16</td>\n",
       "    </tr>\n",
       "    <tr>\n",
       "      <th>7</th>\n",
       "      <td>0</td>\n",
       "      <td>8</td>\n",
       "    </tr>\n",
       "    <tr>\n",
       "      <th>8</th>\n",
       "      <td>0</td>\n",
       "      <td>8</td>\n",
       "    </tr>\n",
       "    <tr>\n",
       "      <th>9</th>\n",
       "      <td>0</td>\n",
       "      <td>32</td>\n",
       "    </tr>\n",
       "    <tr>\n",
       "      <th>10</th>\n",
       "      <td>0</td>\n",
       "      <td>32</td>\n",
       "    </tr>\n",
       "    <tr>\n",
       "      <th>11</th>\n",
       "      <td>0</td>\n",
       "      <td>8</td>\n",
       "    </tr>\n",
       "    <tr>\n",
       "      <th>12</th>\n",
       "      <td>0</td>\n",
       "      <td>7</td>\n",
       "    </tr>\n",
       "    <tr>\n",
       "      <th>13</th>\n",
       "      <td>0</td>\n",
       "      <td>15</td>\n",
       "    </tr>\n",
       "    <tr>\n",
       "      <th>14</th>\n",
       "      <td>0</td>\n",
       "      <td>8</td>\n",
       "    </tr>\n",
       "    <tr>\n",
       "      <th>15</th>\n",
       "      <td>0</td>\n",
       "      <td>8</td>\n",
       "    </tr>\n",
       "    <tr>\n",
       "      <th>16</th>\n",
       "      <td>0</td>\n",
       "      <td>24</td>\n",
       "    </tr>\n",
       "    <tr>\n",
       "      <th>17</th>\n",
       "      <td>0</td>\n",
       "      <td>8</td>\n",
       "    </tr>\n",
       "    <tr>\n",
       "      <th>18</th>\n",
       "      <td>0</td>\n",
       "      <td>7</td>\n",
       "    </tr>\n",
       "    <tr>\n",
       "      <th>19</th>\n",
       "      <td>0</td>\n",
       "      <td>7</td>\n",
       "    </tr>\n",
       "    <tr>\n",
       "      <th>20</th>\n",
       "      <td>0</td>\n",
       "      <td>8</td>\n",
       "    </tr>\n",
       "    <tr>\n",
       "      <th>21</th>\n",
       "      <td>0</td>\n",
       "      <td>24</td>\n",
       "    </tr>\n",
       "    <tr>\n",
       "      <th>22</th>\n",
       "      <td>0</td>\n",
       "      <td>24</td>\n",
       "    </tr>\n",
       "    <tr>\n",
       "      <th>23</th>\n",
       "      <td>0</td>\n",
       "      <td>8</td>\n",
       "    </tr>\n",
       "    <tr>\n",
       "      <th>24</th>\n",
       "      <td>0</td>\n",
       "      <td>8</td>\n",
       "    </tr>\n",
       "    <tr>\n",
       "      <th>25</th>\n",
       "      <td>0</td>\n",
       "      <td>24</td>\n",
       "    </tr>\n",
       "    <tr>\n",
       "      <th>26</th>\n",
       "      <td>0</td>\n",
       "      <td>8</td>\n",
       "    </tr>\n",
       "    <tr>\n",
       "      <th>27</th>\n",
       "      <td>0</td>\n",
       "      <td>8</td>\n",
       "    </tr>\n",
       "    <tr>\n",
       "      <th>28</th>\n",
       "      <td>0</td>\n",
       "      <td>8</td>\n",
       "    </tr>\n",
       "    <tr>\n",
       "      <th>29</th>\n",
       "      <td>0</td>\n",
       "      <td>8</td>\n",
       "    </tr>\n",
       "  </tbody>\n",
       "</table>\n",
       "</div>"
      ],
      "text/plain": [
       "    val  count\n",
       "0     0      8\n",
       "1     0      8\n",
       "2     0     25\n",
       "3     0     17\n",
       "4     0     16\n",
       "5     0      8\n",
       "6     0     16\n",
       "7     0      8\n",
       "8     0      8\n",
       "9     0     32\n",
       "10    0     32\n",
       "11    0      8\n",
       "12    0      7\n",
       "13    0     15\n",
       "14    0      8\n",
       "15    0      8\n",
       "16    0     24\n",
       "17    0      8\n",
       "18    0      7\n",
       "19    0      7\n",
       "20    0      8\n",
       "21    0     24\n",
       "22    0     24\n",
       "23    0      8\n",
       "24    0      8\n",
       "25    0     24\n",
       "26    0      8\n",
       "27    0      8\n",
       "28    0      8\n",
       "29    0      8"
      ]
     },
     "execution_count": 9,
     "metadata": {},
     "output_type": "execute_result"
    }
   ],
   "source": [
    "df0"
   ]
  },
  {
   "cell_type": "code",
   "execution_count": 10,
   "id": "845cccec",
   "metadata": {
    "execution": {
     "iopub.execute_input": "2021-09-09T13:51:19.840200Z",
     "iopub.status.busy": "2021-09-09T13:51:19.839208Z",
     "iopub.status.idle": "2021-09-09T13:51:19.844155Z",
     "shell.execute_reply": "2021-09-09T13:51:19.843553Z",
     "shell.execute_reply.started": "2021-09-09T13:45:49.030576Z"
    },
    "papermill": {
     "duration": 0.041738,
     "end_time": "2021-09-09T13:51:19.844306",
     "exception": false,
     "start_time": "2021-09-09T13:51:19.802568",
     "status": "completed"
    },
    "tags": []
   },
   "outputs": [
    {
     "data": {
      "text/html": [
       "<div>\n",
       "<style scoped>\n",
       "    .dataframe tbody tr th:only-of-type {\n",
       "        vertical-align: middle;\n",
       "    }\n",
       "\n",
       "    .dataframe tbody tr th {\n",
       "        vertical-align: top;\n",
       "    }\n",
       "\n",
       "    .dataframe thead th {\n",
       "        text-align: right;\n",
       "    }\n",
       "</style>\n",
       "<table border=\"1\" class=\"dataframe\">\n",
       "  <thead>\n",
       "    <tr style=\"text-align: right;\">\n",
       "      <th></th>\n",
       "      <th>val</th>\n",
       "      <th>count</th>\n",
       "    </tr>\n",
       "  </thead>\n",
       "  <tbody>\n",
       "    <tr>\n",
       "      <th>0</th>\n",
       "      <td>1</td>\n",
       "      <td>72</td>\n",
       "    </tr>\n",
       "    <tr>\n",
       "      <th>1</th>\n",
       "      <td>1</td>\n",
       "      <td>8</td>\n",
       "    </tr>\n",
       "    <tr>\n",
       "      <th>2</th>\n",
       "      <td>1</td>\n",
       "      <td>7</td>\n",
       "    </tr>\n",
       "    <tr>\n",
       "      <th>3</th>\n",
       "      <td>1</td>\n",
       "      <td>7</td>\n",
       "    </tr>\n",
       "    <tr>\n",
       "      <th>4</th>\n",
       "      <td>1</td>\n",
       "      <td>24</td>\n",
       "    </tr>\n",
       "    <tr>\n",
       "      <th>5</th>\n",
       "      <td>1</td>\n",
       "      <td>8</td>\n",
       "    </tr>\n",
       "    <tr>\n",
       "      <th>6</th>\n",
       "      <td>1</td>\n",
       "      <td>8</td>\n",
       "    </tr>\n",
       "    <tr>\n",
       "      <th>7</th>\n",
       "      <td>1</td>\n",
       "      <td>24</td>\n",
       "    </tr>\n",
       "    <tr>\n",
       "      <th>8</th>\n",
       "      <td>1</td>\n",
       "      <td>8</td>\n",
       "    </tr>\n",
       "    <tr>\n",
       "      <th>9</th>\n",
       "      <td>1</td>\n",
       "      <td>8</td>\n",
       "    </tr>\n",
       "    <tr>\n",
       "      <th>10</th>\n",
       "      <td>1</td>\n",
       "      <td>8</td>\n",
       "    </tr>\n",
       "    <tr>\n",
       "      <th>11</th>\n",
       "      <td>1</td>\n",
       "      <td>8</td>\n",
       "    </tr>\n",
       "    <tr>\n",
       "      <th>12</th>\n",
       "      <td>1</td>\n",
       "      <td>17</td>\n",
       "    </tr>\n",
       "    <tr>\n",
       "      <th>13</th>\n",
       "      <td>1</td>\n",
       "      <td>17</td>\n",
       "    </tr>\n",
       "    <tr>\n",
       "      <th>14</th>\n",
       "      <td>1</td>\n",
       "      <td>8</td>\n",
       "    </tr>\n",
       "    <tr>\n",
       "      <th>15</th>\n",
       "      <td>1</td>\n",
       "      <td>8</td>\n",
       "    </tr>\n",
       "    <tr>\n",
       "      <th>16</th>\n",
       "      <td>1</td>\n",
       "      <td>8</td>\n",
       "    </tr>\n",
       "    <tr>\n",
       "      <th>17</th>\n",
       "      <td>1</td>\n",
       "      <td>16</td>\n",
       "    </tr>\n",
       "    <tr>\n",
       "      <th>18</th>\n",
       "      <td>1</td>\n",
       "      <td>8</td>\n",
       "    </tr>\n",
       "    <tr>\n",
       "      <th>19</th>\n",
       "      <td>1</td>\n",
       "      <td>17</td>\n",
       "    </tr>\n",
       "    <tr>\n",
       "      <th>20</th>\n",
       "      <td>1</td>\n",
       "      <td>25</td>\n",
       "    </tr>\n",
       "    <tr>\n",
       "      <th>21</th>\n",
       "      <td>1</td>\n",
       "      <td>16</td>\n",
       "    </tr>\n",
       "    <tr>\n",
       "      <th>22</th>\n",
       "      <td>1</td>\n",
       "      <td>8</td>\n",
       "    </tr>\n",
       "    <tr>\n",
       "      <th>23</th>\n",
       "      <td>1</td>\n",
       "      <td>8</td>\n",
       "    </tr>\n",
       "    <tr>\n",
       "      <th>24</th>\n",
       "      <td>1</td>\n",
       "      <td>16</td>\n",
       "    </tr>\n",
       "    <tr>\n",
       "      <th>25</th>\n",
       "      <td>1</td>\n",
       "      <td>8</td>\n",
       "    </tr>\n",
       "    <tr>\n",
       "      <th>26</th>\n",
       "      <td>1</td>\n",
       "      <td>16</td>\n",
       "    </tr>\n",
       "    <tr>\n",
       "      <th>27</th>\n",
       "      <td>1</td>\n",
       "      <td>32</td>\n",
       "    </tr>\n",
       "    <tr>\n",
       "      <th>28</th>\n",
       "      <td>1</td>\n",
       "      <td>8</td>\n",
       "    </tr>\n",
       "    <tr>\n",
       "      <th>29</th>\n",
       "      <td>1</td>\n",
       "      <td>8</td>\n",
       "    </tr>\n",
       "    <tr>\n",
       "      <th>30</th>\n",
       "      <td>1</td>\n",
       "      <td>73</td>\n",
       "    </tr>\n",
       "  </tbody>\n",
       "</table>\n",
       "</div>"
      ],
      "text/plain": [
       "    val  count\n",
       "0     1     72\n",
       "1     1      8\n",
       "2     1      7\n",
       "3     1      7\n",
       "4     1     24\n",
       "5     1      8\n",
       "6     1      8\n",
       "7     1     24\n",
       "8     1      8\n",
       "9     1      8\n",
       "10    1      8\n",
       "11    1      8\n",
       "12    1     17\n",
       "13    1     17\n",
       "14    1      8\n",
       "15    1      8\n",
       "16    1      8\n",
       "17    1     16\n",
       "18    1      8\n",
       "19    1     17\n",
       "20    1     25\n",
       "21    1     16\n",
       "22    1      8\n",
       "23    1      8\n",
       "24    1     16\n",
       "25    1      8\n",
       "26    1     16\n",
       "27    1     32\n",
       "28    1      8\n",
       "29    1      8\n",
       "30    1     73"
      ]
     },
     "execution_count": 10,
     "metadata": {},
     "output_type": "execute_result"
    }
   ],
   "source": [
    "df1"
   ]
  },
  {
   "cell_type": "code",
   "execution_count": 11,
   "id": "c496c210",
   "metadata": {
    "execution": {
     "iopub.execute_input": "2021-09-09T13:51:19.905314Z",
     "iopub.status.busy": "2021-09-09T13:51:19.904633Z",
     "iopub.status.idle": "2021-09-09T13:51:20.109308Z",
     "shell.execute_reply": "2021-09-09T13:51:20.109836Z",
     "shell.execute_reply.started": "2021-09-09T13:45:49.050962Z"
    },
    "papermill": {
     "duration": 0.239195,
     "end_time": "2021-09-09T13:51:20.110023",
     "exception": false,
     "start_time": "2021-09-09T13:51:19.870828",
     "status": "completed"
    },
    "tags": []
   },
   "outputs": [
    {
     "data": {
      "image/png": "[encoded data removed]",
      "text/plain": [
       "<Figure size 936x360 with 1 Axes>"
      ]
     },
     "metadata": {
      "needs_background": "light"
     },
     "output_type": "display_data"
    }
   ],
   "source": [
    "plt.figure(figsize=(13,5))\n",
    "plt.plot(df0['count'])\n",
    "plt.grid()"
   ]
  },
  {
   "cell_type": "markdown",
   "id": "301fe1f5",
   "metadata": {
    "papermill": {
     "duration": 0.027249,
     "end_time": "2021-09-09T13:51:20.164988",
     "exception": false,
     "start_time": "2021-09-09T13:51:20.137739",
     "status": "completed"
    },
    "tags": []
   },
   "source": [
    "# these limits are to be changed as per the graph above.\n",
    "# one might also consider resizing the images to a fixed size to normalize to some extent.\n",
    "# the same will be done in later versions."
   ]
  },
  {
   "cell_type": "code",
   "execution_count": 12,
   "id": "8c2abdc4",
   "metadata": {
    "execution": {
     "iopub.execute_input": "2021-09-09T13:51:20.228251Z",
     "iopub.status.busy": "2021-09-09T13:51:20.227504Z",
     "iopub.status.idle": "2021-09-09T13:51:20.230491Z",
     "shell.execute_reply": "2021-09-09T13:51:20.231084Z",
     "shell.execute_reply.started": "2021-09-09T13:45:49.241176Z"
    },
    "papermill": {
     "duration": 0.038964,
     "end_time": "2021-09-09T13:51:20.231272",
     "exception": false,
     "start_time": "2021-09-09T13:51:20.192308",
     "status": "completed"
    },
    "tags": []
   },
   "outputs": [
    {
     "name": "stdout",
     "output_type": "stream",
     "text": [
      "[1, 1, 3, 2, 2, 1, 2, 1, 1, 4, 4, 1, 1, 2, 1, 1, 3, 1, 1, 1, 1, 3, 3, 1, 1, 3, 1, 1, 1, 1]\n",
      "CPU times: user 983 µs, sys: 0 ns, total: 983 µs\n",
      "Wall time: 990 µs\n"
     ]
    }
   ],
   "source": [
    "%%time\n",
    "#these limits are to be changed as per the graph above.\n",
    "#one might also consider resizing the images to a fixed size to normalize to some extent.\n",
    "arrb = []\n",
    "for i in range(0, len(df0['val'])):\n",
    "    \n",
    "    if df0['count'][i] <= 12:\n",
    "        arrb.append(1)\n",
    "        \n",
    "    elif df0['count'][i] > 12 and df0['count'][i] <= 20:\n",
    "        arrb.append(2)\n",
    "        \n",
    "    elif df0['count'][i] > 20 and df0['count'][i] <= 25:\n",
    "        arrb.append(3)\n",
    "        \n",
    "    elif df0['count'][i] > 25 and df0['count'][i] <= 50:\n",
    "        arrb.append(4)\n",
    "\n",
    "print(arrb)"
   ]
  },
  {
   "cell_type": "code",
   "execution_count": 13,
   "id": "e31884b4",
   "metadata": {
    "execution": {
     "iopub.execute_input": "2021-09-09T13:51:20.290068Z",
     "iopub.status.busy": "2021-09-09T13:51:20.289368Z",
     "iopub.status.idle": "2021-09-09T13:51:20.508477Z",
     "shell.execute_reply": "2021-09-09T13:51:20.509041Z",
     "shell.execute_reply.started": "2021-09-09T13:45:49.251355Z"
    },
    "papermill": {
     "duration": 0.250048,
     "end_time": "2021-09-09T13:51:20.509229",
     "exception": false,
     "start_time": "2021-09-09T13:51:20.259181",
     "status": "completed"
    },
    "tags": []
   },
   "outputs": [
    {
     "name": "stdout",
     "output_type": "stream",
     "text": [
      "CPU times: user 25.8 ms, sys: 0 ns, total: 25.8 ms\n",
      "Wall time: 25.8 ms\n"
     ]
    },
    {
     "data": {
      "image/png": "[encoded data removed]",
      "text/plain": [
       "<Figure size 936x720 with 1 Axes>"
      ]
     },
     "metadata": {
      "needs_background": "light"
     },
     "output_type": "display_data"
    }
   ],
   "source": [
    "%%time\n",
    "plt.figure(figsize=(13,10))\n",
    "plt.plot(df1['count'])\n",
    "plt.grid()"
   ]
  },
  {
   "cell_type": "code",
   "execution_count": 14,
   "id": "3c6a2720",
   "metadata": {
    "execution": {
     "iopub.execute_input": "2021-09-09T13:51:20.573550Z",
     "iopub.status.busy": "2021-09-09T13:51:20.572871Z",
     "iopub.status.idle": "2021-09-09T13:51:20.582903Z",
     "shell.execute_reply": "2021-09-09T13:51:20.581891Z",
     "shell.execute_reply.started": "2021-09-09T13:45:49.466756Z"
    },
    "papermill": {
     "duration": 0.042704,
     "end_time": "2021-09-09T13:51:20.583118",
     "exception": false,
     "start_time": "2021-09-09T13:51:20.540414",
     "status": "completed"
    },
    "tags": []
   },
   "outputs": [
    {
     "name": "stdout",
     "output_type": "stream",
     "text": [
      "[4, 1, 1, 1, 3, 1, 1, 3, 1, 1, 1, 1, 2, 2, 1, 1, 1, 2, 1, 2, 3, 2, 1, 1, 2, 1, 2, 4, 1, 1, 4]\n",
      "CPU times: user 1.3 ms, sys: 17 µs, total: 1.31 ms\n",
      "Wall time: 1.32 ms\n"
     ]
    }
   ],
   "source": [
    "%%time\n",
    "arrw = []\n",
    "for i in range(0, len(df1['val'])):\n",
    "    \n",
    "    if df1['count'][i] <= 10:\n",
    "        arrw.append(1)\n",
    "        \n",
    "    elif df1['count'][i] > 10 and df1['count'][i] <= 20:\n",
    "        arrw.append(2)\n",
    "        \n",
    "    elif df1['count'][i] > 20 and df1['count'][i] <= 30:\n",
    "        arrw.append(3)\n",
    "        \n",
    "    elif df1['count'][i] > 30 and df1['count'][i] <= 120:\n",
    "        arrw.append(4)\n",
    "         \n",
    "print(arrw)"
   ]
  },
  {
   "cell_type": "code",
   "execution_count": 15,
   "id": "639ab5c8",
   "metadata": {
    "execution": {
     "iopub.execute_input": "2021-09-09T13:51:20.650032Z",
     "iopub.status.busy": "2021-09-09T13:51:20.649140Z",
     "iopub.status.idle": "2021-09-09T13:51:20.652548Z",
     "shell.execute_reply": "2021-09-09T13:51:20.653416Z",
     "shell.execute_reply.started": "2021-09-09T13:45:49.477363Z"
    },
    "papermill": {
     "duration": 0.040494,
     "end_time": "2021-09-09T13:51:20.653686",
     "exception": false,
     "start_time": "2021-09-09T13:51:20.613192",
     "status": "completed"
    },
    "tags": []
   },
   "outputs": [
    {
     "name": "stdout",
     "output_type": "stream",
     "text": [
      "[4, 1, 1, 1, 1, 3, 1, 2, 3, 2, 1, 1, 1, 2, 3, 1, 1, 1, 1, 4, 1, 4, 1, 1, 2, 1, 2, 2, 1, 1, 1, 1, 1, 3, 2, 1, 1, 1, 2, 1, 3, 1, 2, 3, 1, 3, 1, 1, 2, 1, 1, 3, 2, 1, 4, 1, 1, 1, 1, 1, 4]\n",
      "61\n",
      "CPU times: user 182 µs, sys: 10 µs, total: 192 µs\n",
      "Wall time: 151 µs\n"
     ]
    }
   ],
   "source": [
    "%%time\n",
    "arr = []\n",
    "\n",
    "for i in range(0, len(arrb)):\n",
    "    arr.append(arrw[i])\n",
    "    arr.append(arrb[i])\n",
    "arr.append(arrw[len(arrw)-1])\n",
    "print(arr)\n",
    "print(len(arr))"
   ]
  },
  {
   "cell_type": "code",
   "execution_count": 16,
   "id": "39760398",
   "metadata": {
    "execution": {
     "iopub.execute_input": "2021-09-09T13:51:20.721291Z",
     "iopub.status.busy": "2021-09-09T13:51:20.720360Z",
     "iopub.status.idle": "2021-09-09T13:51:20.725052Z",
     "shell.execute_reply": "2021-09-09T13:51:20.724004Z",
     "shell.execute_reply.started": "2021-09-09T13:45:49.494528Z"
    },
    "papermill": {
     "duration": 0.040049,
     "end_time": "2021-09-09T13:51:20.725440",
     "exception": false,
     "start_time": "2021-09-09T13:51:20.685391",
     "status": "completed"
    },
    "tags": []
   },
   "outputs": [
    {
     "name": "stdout",
     "output_type": "stream",
     "text": [
      "[1, 3, 1, 2, 3, 2, 1, 1, 1, 2, 3, 1, 1, 1, 1, 4, 1, 4, 1, 1, 2, 1, 2, 2, 1, 1, 1, 1, 1, 3, 2, 1, 1, 1, 2, 1, 3, 1, 2, 3, 1, 3, 1, 1, 2, 1, 1, 3, 2, 1, 4, 1, 1]\n",
      "53\n"
     ]
    }
   ],
   "source": [
    "arr = arr[4:-4]\n",
    "print(arr)\n",
    "print(len(arr))"
   ]
  },
  {
   "cell_type": "code",
   "execution_count": 17,
   "id": "ecee4c3c",
   "metadata": {
    "execution": {
     "iopub.execute_input": "2021-09-09T13:51:20.803903Z",
     "iopub.status.busy": "2021-09-09T13:51:20.803194Z",
     "iopub.status.idle": "2021-09-09T13:51:20.808498Z",
     "shell.execute_reply": "2021-09-09T13:51:20.807869Z",
     "shell.execute_reply.started": "2021-09-09T13:45:49.511978Z"
    },
    "papermill": {
     "duration": 0.051265,
     "end_time": "2021-09-09T13:51:20.808650",
     "exception": false,
     "start_time": "2021-09-09T13:51:20.757385",
     "status": "completed"
    },
    "tags": []
   },
   "outputs": [
    {
     "name": "stdout",
     "output_type": "stream",
     "text": [
      "[1, 3, 1, 2, 3, 2, 1, 1, 1, 2, 3, 1, 1, 1, 1, 4, 1, 4, 1, 1, 2, 1, 2, 2, 3, 2, 1, 1, 1, 2, 1, 3, 1, 2, 3, 1, 3, 1, 1, 2, 1, 1, 3, 2, 1, 4, 1, 1]\n",
      "48\n"
     ]
    }
   ],
   "source": [
    "arr.pop(24); arr.pop(24); arr.pop(24); arr.pop(24); arr.pop(24); \n",
    "print(arr)\n",
    "print(len(arr))"
   ]
  },
  {
   "cell_type": "code",
   "execution_count": 18,
   "id": "f6f687e3",
   "metadata": {
    "execution": {
     "iopub.execute_input": "2021-09-09T13:51:20.895596Z",
     "iopub.status.busy": "2021-09-09T13:51:20.894432Z",
     "iopub.status.idle": "2021-09-09T13:51:20.901758Z",
     "shell.execute_reply": "2021-09-09T13:51:20.901043Z",
     "shell.execute_reply.started": "2021-09-09T13:45:49.532748Z"
    },
    "papermill": {
     "duration": 0.051549,
     "end_time": "2021-09-09T13:51:20.901947",
     "exception": false,
     "start_time": "2021-09-09T13:51:20.850398",
     "status": "completed"
    },
    "tags": []
   },
   "outputs": [
    {
     "name": "stdout",
     "output_type": "stream",
     "text": [
      "0 1 2 3\n",
      "4 5 6 7\n",
      "8 9 10 11\n",
      "12 13 14 15\n",
      "16 17 18 19\n",
      "20 21 22 23\n",
      "24 25 26 27\n",
      "28 29 30 31\n",
      "32 33 34 35\n",
      "36 37 38 39\n",
      "40 41 42 43\n",
      "44 45 46 47\n",
      "[['1312'], ['3211'], ['1231'], ['1114'], ['1411'], ['2122'], ['3211'], ['1213'], ['1231'], ['3112'], ['1132'], ['1411']]\n"
     ]
    }
   ],
   "source": [
    "j=-4\n",
    "arr1 = []\n",
    "while j < len(arr)-4:\n",
    "    j  = j+4\n",
    "    print(str(j) +' '+ str(j+1) +' '+ str(j+2) +' '+ str(j+3))\n",
    "    arr1.append( [( str(arr[j]) + str(arr[j+1]) + str(arr[j+2]) + str(arr[j+3]) )] )\n",
    "print(arr1)"
   ]
  },
  {
   "cell_type": "markdown",
   "id": "d17d3ffe",
   "metadata": {
    "papermill": {
     "duration": 0.032751,
     "end_time": "2021-09-09T13:51:20.967477",
     "exception": false,
     "start_time": "2021-09-09T13:51:20.934726",
     "status": "completed"
    },
    "tags": []
   },
   "source": [
    "## FINAL CODE"
   ]
  },
  {
   "cell_type": "code",
   "execution_count": 19,
   "id": "9e919317",
   "metadata": {
    "execution": {
     "iopub.execute_input": "2021-09-09T13:51:21.042646Z",
     "iopub.status.busy": "2021-09-09T13:51:21.041510Z",
     "iopub.status.idle": "2021-09-09T13:51:21.047619Z",
     "shell.execute_reply": "2021-09-09T13:51:21.049355Z",
     "shell.execute_reply.started": "2021-09-09T13:49:22.542469Z"
    },
    "papermill": {
     "duration": 0.050292,
     "end_time": "2021-09-09T13:51:21.049756",
     "exception": false,
     "start_time": "2021-09-09T13:51:20.999464",
     "status": "completed"
    },
    "tags": []
   },
   "outputs": [
    {
     "name": "stdout",
     "output_type": "stream",
     "text": [
      "\n",
      "CODE:  705632085943\n"
     ]
    }
   ],
   "source": [
    "code = []\n",
    "for i in range(0, len(arr1)):\n",
    "    if arr1[i][0]== '3211':\n",
    "        code.append('0')\n",
    "    elif arr1[i][0]== '2221':\n",
    "        code.append('1')\n",
    "    elif arr1[i][0]== '2122':\n",
    "        code.append('2')\n",
    "    elif arr1[i][0]== '1411':\n",
    "        code.append('3')\n",
    "    elif arr1[i][0]== '1132':\n",
    "        code.append('4')\n",
    "    elif arr1[i][0]== '1231':\n",
    "        code.append('5')\n",
    "    elif arr1[i][0]== '1114':\n",
    "        code.append('6')\n",
    "    elif arr1[i][0]== '1312':\n",
    "        code.append('7')\n",
    "    elif arr1[i][0]== '1213':\n",
    "        code.append('8')\n",
    "    elif arr1[i][0]== '3112':\n",
    "        code.append('9')\n",
    "    else:\n",
    "        code.append('R')\n",
    "\n",
    "code = ''.join(code)\n",
    "print('\\nCODE: ',code)"
   ]
  },
  {
   "cell_type": "code",
   "execution_count": 20,
   "id": "e03e05cf",
   "metadata": {
    "execution": {
     "iopub.execute_input": "2021-09-09T13:51:21.142759Z",
     "iopub.status.busy": "2021-09-09T13:51:21.142030Z",
     "iopub.status.idle": "2021-09-09T13:51:21.314075Z",
     "shell.execute_reply": "2021-09-09T13:51:21.313512Z",
     "shell.execute_reply.started": "2021-09-09T13:45:49.591184Z"
    },
    "papermill": {
     "duration": 0.231111,
     "end_time": "2021-09-09T13:51:21.314234",
     "exception": false,
     "start_time": "2021-09-09T13:51:21.083123",
     "status": "completed"
    },
    "tags": []
   },
   "outputs": [
    {
     "data": {
      "image/png": "[encoded data removed]",
      "text/plain": [
       "<Figure size 936x360 with 1 Axes>"
      ]
     },
     "metadata": {
      "needs_background": "light"
     },
     "output_type": "display_data"
    }
   ],
   "source": [
    "plt.figure(figsize=(13,5))\n",
    "plt.plot(arr)\n",
    "plt.grid()"
   ]
  },
  {
   "cell_type": "code",
   "execution_count": 21,
   "id": "4515e837",
   "metadata": {
    "execution": {
     "iopub.execute_input": "2021-09-09T13:51:21.386391Z",
     "iopub.status.busy": "2021-09-09T13:51:21.385687Z",
     "iopub.status.idle": "2021-09-09T13:51:21.389252Z",
     "shell.execute_reply": "2021-09-09T13:51:21.389883Z",
     "shell.execute_reply.started": "2021-09-09T13:45:49.792482Z"
    },
    "papermill": {
     "duration": 0.04307,
     "end_time": "2021-09-09T13:51:21.390062",
     "exception": false,
     "start_time": "2021-09-09T13:51:21.346992",
     "status": "completed"
    },
    "tags": []
   },
   "outputs": [
    {
     "data": {
      "text/plain": [
       "[1, 5]"
      ]
     },
     "execution_count": 21,
     "metadata": {},
     "output_type": "execute_result"
    }
   ],
   "source": [
    "rrr = [1,2,3,4,5]\n",
    "rrr.pop(1);rrr.pop(1);rrr.pop(1)\n",
    "rrr"
   ]
  },
  {
   "cell_type": "code",
   "execution_count": null,
   "id": "d4b46761",
   "metadata": {
    "papermill": {
     "duration": 0.032872,
     "end_time": "2021-09-09T13:51:21.456255",
     "exception": false,
     "start_time": "2021-09-09T13:51:21.423383",
     "status": "completed"
    },
    "tags": []
   },
   "outputs": [],
   "source": []
  }
 ],
 "metadata": {
  "kernelspec": {
   "display_name": "Python 3",
   "language": "python",
   "name": "python3"
  },
  "language_info": {
   "codemirror_mode": {
    "name": "ipython",
    "version": 3
   },
   "file_extension": ".py",
   "mimetype": "text/x-python",
   "name": "python",
   "nbconvert_exporter": "python",
   "pygments_lexer": "ipython3",
   "version": "3.7.10"
  },
  "papermill": {
   "default_parameters": {},
   "duration": 22.914378,
   "end_time": "2021-09-09T13:51:23.137999",
   "environment_variables": {},
   "exception": null,
   "input_path": "__notebook__.ipynb",
   "output_path": "__notebook__.ipynb",
   "parameters": {},
   "start_time": "2021-09-09T13:51:00.223621",
   "version": "2.3.3"
  }
 },
 "nbformat": 4,
 "nbformat_minor": 5
}
